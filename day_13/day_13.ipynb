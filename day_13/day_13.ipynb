{
 "cells": [
  {
   "cell_type": "code",
   "execution_count": 1,
   "metadata": {},
   "outputs": [],
   "source": [
    "import re\n",
    "\n",
    "import z3"
   ]
  },
  {
   "cell_type": "code",
   "execution_count": 2,
   "metadata": {},
   "outputs": [],
   "source": [
    "with open(\"day_13.txt\") as f:\n",
    "    machines = []\n",
    "    for machine in f.read().strip().split(\"\\n\\n\"):\n",
    "        a, b, c = machine.split(\"\\n\")\n",
    "\n",
    "        ax_step, ay_step = re.match(r\"^Button A: X\\+(\\d+), Y\\+(\\d+)$\", a).groups()\n",
    "        bx_step, by_step = re.match(r\"^Button B: X\\+(\\d+), Y\\+(\\d+)$\", b).groups()\n",
    "        target_x, target_y = re.match(r\"^Prize: X=(\\d+), Y=(\\d+)$\", c).groups()\n",
    "\n",
    "        machines.append(\n",
    "            (\n",
    "                (int(ax_step), int(ay_step)),\n",
    "                (int(bx_step), int(by_step)),\n",
    "                (int(target_x), int(target_y)),\n",
    "            )\n",
    "        )"
   ]
  },
  {
   "cell_type": "markdown",
   "metadata": {},
   "source": [
    "# Part 1"
   ]
  },
  {
   "cell_type": "code",
   "execution_count": 3,
   "metadata": {},
   "outputs": [
    {
     "data": {
      "text/plain": [
       "25751"
      ]
     },
     "execution_count": 3,
     "metadata": {},
     "output_type": "execute_result"
    }
   ],
   "source": [
    "s = 0\n",
    "for (ax, ay), (bx, by), (target_x, target_y) in machines:\n",
    "    min_score = float(\"inf\")\n",
    "    for n in range(1, 200 + 1):\n",
    "        for a_pressed in range(n + 1):\n",
    "            b_pressed = n - a_pressed\n",
    "\n",
    "            if (a_pressed * ax + b_pressed * bx == target_x) and (a_pressed * ay + b_pressed * by == target_y):\n",
    "                score = 3 * a_pressed + 1 * b_pressed\n",
    "                if min_score > score:\n",
    "                    min_score = score\n",
    "\n",
    "    if min_score < float(\"inf\"):\n",
    "        s += min_score or 0\n",
    "s"
   ]
  },
  {
   "cell_type": "markdown",
   "metadata": {},
   "source": [
    "# Part 2"
   ]
  },
  {
   "cell_type": "code",
   "execution_count": 4,
   "metadata": {},
   "outputs": [
    {
     "data": {
      "text/plain": [
       "108528956728655"
      ]
     },
     "execution_count": 4,
     "metadata": {},
     "output_type": "execute_result"
    }
   ],
   "source": [
    "s = 0\n",
    "for (ax, ay), (bx, by), (target_x, target_y) in machines:\n",
    "    target_x += 10000000000000\n",
    "    target_y += 10000000000000\n",
    "\n",
    "    a_pressed = z3.Int(\"a_pressed\")\n",
    "    b_pressed = z3.Int(\"b_pressed\")\n",
    "    score = z3.Int(\"score\")\n",
    "\n",
    "    o = z3.Optimize()\n",
    "    o.add(a_pressed * ax + b_pressed * bx == target_x)\n",
    "    o.add(a_pressed * ay + b_pressed * by == target_y)\n",
    "    o.add(score == a_pressed * 3 + b_pressed * 1)\n",
    "    o.minimize(score)\n",
    "\n",
    "    o.check()\n",
    "\n",
    "    if o.model()[score] is not None:\n",
    "        s += o.model()[score].as_long()\n",
    "s"
   ]
  }
 ],
 "metadata": {
  "kernelspec": {
   "display_name": "venv",
   "language": "python",
   "name": "python3"
  },
  "language_info": {
   "codemirror_mode": {
    "name": "ipython",
    "version": 3
   },
   "file_extension": ".py",
   "mimetype": "text/x-python",
   "name": "python",
   "nbconvert_exporter": "python",
   "pygments_lexer": "ipython3",
   "version": "3.10.12"
  }
 },
 "nbformat": 4,
 "nbformat_minor": 2
}
