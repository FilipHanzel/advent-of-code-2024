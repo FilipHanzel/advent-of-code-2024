{
 "cells": [
  {
   "cell_type": "code",
   "execution_count": 1,
   "metadata": {},
   "outputs": [],
   "source": [
    "from collections import namedtuple"
   ]
  },
  {
   "cell_type": "code",
   "execution_count": 2,
   "metadata": {},
   "outputs": [],
   "source": [
    "File = namedtuple(\"File\", [\"size\", \"idx\"])\n",
    "Space = namedtuple(\"Space\", [\"size\"])\n",
    "\n",
    "with open(\"day_09.txt\") as f:\n",
    "    data = [File(int(n), i // 2) if i % 2 == 0 else Space(int(n)) for i, n in enumerate(f.read().strip())]"
   ]
  },
  {
   "cell_type": "markdown",
   "metadata": {},
   "source": [
    "# Part 1"
   ]
  },
  {
   "cell_type": "code",
   "execution_count": 3,
   "metadata": {},
   "outputs": [
    {
     "data": {
      "text/plain": [
       "6384282079460"
      ]
     },
     "execution_count": 3,
     "metadata": {},
     "output_type": "execute_result"
    }
   ],
   "source": [
    "data_cpy = data.copy()\n",
    "\n",
    "cursor_l = 1\n",
    "cursor_r = len(data_cpy) - 1\n",
    "while True:\n",
    "    f = data_cpy.pop(cursor_r)\n",
    "    s = data_cpy.pop(cursor_l)\n",
    "\n",
    "    if s.size == f.size:\n",
    "        data_cpy.insert(cursor_l, File(f.size, f.idx))\n",
    "        cursor_l += 2\n",
    "        cursor_r -= 2\n",
    "\n",
    "    elif s.size > f.size:\n",
    "        data_cpy.insert(cursor_l, File(f.size, f.idx))\n",
    "        cursor_l += 1\n",
    "        data_cpy.insert(cursor_l, Space(s.size - f.size))\n",
    "        cursor_r -= 1\n",
    "\n",
    "    elif s.size < f.size:\n",
    "        data_cpy.insert(cursor_l, File(s.size, f.idx))\n",
    "        data_cpy.insert(cursor_r, File(f.size - s.size, f.idx))\n",
    "        cursor_l += 2\n",
    "\n",
    "    if cursor_l >= cursor_r:\n",
    "        break\n",
    "\n",
    "s = 0\n",
    "cursor = 0\n",
    "for block in data_cpy:\n",
    "    if not isinstance(block, File):\n",
    "        continue\n",
    "\n",
    "    for pos in range(block.size):\n",
    "        s += cursor * block.idx\n",
    "        cursor += 1\n",
    "s\n"
   ]
  },
  {
   "cell_type": "markdown",
   "metadata": {},
   "source": [
    "# Part 2"
   ]
  },
  {
   "cell_type": "code",
   "execution_count": 4,
   "metadata": {},
   "outputs": [
    {
     "data": {
      "text/plain": [
       "6408966547049"
      ]
     },
     "execution_count": 4,
     "metadata": {},
     "output_type": "execute_result"
    }
   ],
   "source": [
    "data_cpy = data.copy()\n",
    "moved = set()\n",
    "\n",
    "\n",
    "def move_cursor_r(cursor_r: int) -> int:\n",
    "    cursor_r -= 1\n",
    "    while cursor_r > 0 and (isinstance(data_cpy[cursor_r], Space) or data_cpy[cursor_r] in moved):\n",
    "        cursor_r -= 1\n",
    "    return cursor_r\n",
    "\n",
    "\n",
    "def move_cursor_l(cursor_l) -> int:\n",
    "    cursor_l += 1\n",
    "    while cursor_l < len(data_cpy) and isinstance(data_cpy[cursor_l], File):\n",
    "        cursor_l += 1\n",
    "    return cursor_l\n",
    "\n",
    "\n",
    "memory_l = None\n",
    "cursor_l = 1\n",
    "cursor_r = len(data_cpy) - 1\n",
    "while True:\n",
    "    f = data_cpy[cursor_r]\n",
    "    s = data_cpy[cursor_l]\n",
    "\n",
    "    if s.size >= f.size:\n",
    "        data_cpy[cursor_r] = Space(f.size)\n",
    "        data_cpy[cursor_l] = File(f.size, f.idx)\n",
    "        if s.size > f.size:\n",
    "            data_cpy.insert(cursor_l + 1, Space(s.size - f.size))\n",
    "\n",
    "        cursor_r = move_cursor_r(cursor_r)\n",
    "        cursor_l = memory_l or move_cursor_l(cursor_l)\n",
    "        memory_l = None\n",
    "    else:\n",
    "        if memory_l is None:\n",
    "            memory_l = cursor_l\n",
    "        cursor_l = move_cursor_l(cursor_l)\n",
    "\n",
    "    if cursor_l >= cursor_r and memory_l is not None:\n",
    "        cursor_l, memory_l = memory_l, None\n",
    "        cursor_r = move_cursor_r(cursor_r)\n",
    "\n",
    "    if cursor_l >= cursor_r:\n",
    "        break\n",
    "\n",
    "\n",
    "s = 0\n",
    "cursor = 0\n",
    "for block in data_cpy:\n",
    "    if isinstance(block, Space):\n",
    "        cursor += block.size\n",
    "        continue\n",
    "\n",
    "    for pos in range(block.size):\n",
    "        s += cursor * block.idx\n",
    "        cursor += 1\n",
    "s"
   ]
  }
 ],
 "metadata": {
  "kernelspec": {
   "display_name": "venv",
   "language": "python",
   "name": "python3"
  },
  "language_info": {
   "codemirror_mode": {
    "name": "ipython",
    "version": 3
   },
   "file_extension": ".py",
   "mimetype": "text/x-python",
   "name": "python",
   "nbconvert_exporter": "python",
   "pygments_lexer": "ipython3",
   "version": "3.10.12"
  }
 },
 "nbformat": 4,
 "nbformat_minor": 2
}
