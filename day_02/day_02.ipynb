{
 "cells": [
  {
   "cell_type": "code",
   "execution_count": 31,
   "metadata": {},
   "outputs": [],
   "source": [
    "from itertools import pairwise"
   ]
  },
  {
   "cell_type": "code",
   "execution_count": 32,
   "metadata": {},
   "outputs": [],
   "source": [
    "with open(\"day_02.txt\") as f:\n",
    "    reports = []\n",
    "    for line in f.read().strip().split(\"\\n\"):\n",
    "        report = list(map(int, line.split()))\n",
    "        reports.append(report)\n"
   ]
  },
  {
   "cell_type": "markdown",
   "metadata": {},
   "source": [
    "# Part 1"
   ]
  },
  {
   "cell_type": "code",
   "execution_count": 33,
   "metadata": {},
   "outputs": [
    {
     "data": {
      "text/plain": [
       "407"
      ]
     },
     "execution_count": 33,
     "metadata": {},
     "output_type": "execute_result"
    }
   ],
   "source": [
    "s = 0\n",
    "for report in reports:\n",
    "    inc = all(4 > (a - b) > 0 for a, b in pairwise(report))\n",
    "    dec = all(4 > (b - a) > 0 for a, b in pairwise(report))\n",
    "    s += inc or dec\n",
    "s"
   ]
  },
  {
   "cell_type": "markdown",
   "metadata": {},
   "source": [
    "# Part 2"
   ]
  },
  {
   "cell_type": "code",
   "execution_count": 34,
   "metadata": {},
   "outputs": [
    {
     "data": {
      "text/plain": [
       "459"
      ]
     },
     "execution_count": 34,
     "metadata": {},
     "output_type": "execute_result"
    }
   ],
   "source": [
    "s = 0\n",
    "for report in reports:\n",
    "    for i in range(len(report)):\n",
    "        cp = report.copy()\n",
    "        cp.pop(i)\n",
    "\n",
    "        inc = all(4 > (a - b) > 0 for a, b in pairwise(cp))\n",
    "        dec = all(4 > (b - a) > 0 for a, b in pairwise(cp))\n",
    "        if inc or dec:\n",
    "            s += 1\n",
    "            break\n",
    "s"
   ]
  }
 ],
 "metadata": {
  "kernelspec": {
   "display_name": "venv",
   "language": "python",
   "name": "python3"
  },
  "language_info": {
   "codemirror_mode": {
    "name": "ipython",
    "version": 3
   },
   "file_extension": ".py",
   "mimetype": "text/x-python",
   "name": "python",
   "nbconvert_exporter": "python",
   "pygments_lexer": "ipython3",
   "version": "3.10.12"
  }
 },
 "nbformat": 4,
 "nbformat_minor": 2
}
