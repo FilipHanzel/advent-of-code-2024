{
 "cells": [
  {
   "cell_type": "code",
   "execution_count": 1,
   "metadata": {},
   "outputs": [],
   "source": [
    "from collections import namedtuple"
   ]
  },
  {
   "cell_type": "code",
   "execution_count": 2,
   "metadata": {},
   "outputs": [],
   "source": [
    "with open(\"day_12.txt\") as f:\n",
    "    garden = f.read().strip().split(\"\\n\")\n",
    "\n",
    "n_rows = len(garden)\n",
    "n_cols = len(garden[0])\n",
    "\n",
    "Position = namedtuple(\"Position\", [\"x\", \"y\"])"
   ]
  },
  {
   "cell_type": "markdown",
   "metadata": {},
   "source": [
    "# Part 1"
   ]
  },
  {
   "cell_type": "code",
   "execution_count": 3,
   "metadata": {},
   "outputs": [
    {
     "data": {
      "text/plain": [
       "1461752"
      ]
     },
     "execution_count": 3,
     "metadata": {},
     "output_type": "execute_result"
    }
   ],
   "source": [
    "s = 0\n",
    "visited = set()\n",
    "for y, row in enumerate(garden):\n",
    "    for x, plot in enumerate(row):\n",
    "        p = Position(x, y)\n",
    "\n",
    "        if p in visited:\n",
    "            continue\n",
    "\n",
    "        area = set()\n",
    "        perimiter = 0\n",
    "        to_check = [p]\n",
    "        while to_check:\n",
    "            q = to_check.pop()\n",
    "\n",
    "            if q in area:\n",
    "                continue\n",
    "\n",
    "            if plot == garden[q.y][q.x]:\n",
    "                area.add(q)\n",
    "\n",
    "                if q.x > 0:\n",
    "                    to_check.append(Position(q.x - 1, q.y))\n",
    "                else:\n",
    "                    perimiter += 1\n",
    "\n",
    "                if q.x < n_cols - 1:\n",
    "                    to_check.append(Position(q.x + 1, q.y))\n",
    "                else:\n",
    "                    perimiter += 1\n",
    "\n",
    "                if q.y > 0:\n",
    "                    to_check.append(Position(q.x, q.y - 1))\n",
    "                else:\n",
    "                    perimiter += 1\n",
    "\n",
    "                if q.y < n_rows - 1:\n",
    "                    to_check.append(Position(q.x, q.y + 1))\n",
    "                else:\n",
    "                    perimiter += 1\n",
    "            \n",
    "            else:\n",
    "                perimiter += 1\n",
    "            \n",
    "        \n",
    "        visited = visited.union(area)\n",
    "\n",
    "        s += len(area) * perimiter\n",
    "s"
   ]
  },
  {
   "cell_type": "markdown",
   "metadata": {},
   "source": [
    "# Part 2"
   ]
  },
  {
   "cell_type": "code",
   "execution_count": 4,
   "metadata": {},
   "outputs": [
    {
     "data": {
      "text/plain": [
       "904114"
      ]
     },
     "execution_count": 4,
     "metadata": {},
     "output_type": "execute_result"
    }
   ],
   "source": [
    "s = 0\n",
    "visited = set()\n",
    "for y, row in enumerate(garden):\n",
    "    for x, plot in enumerate(row):\n",
    "        p = Position(x, y)\n",
    "\n",
    "        if p in visited:\n",
    "            continue\n",
    "\n",
    "        area = set()\n",
    "        perimiter = 0\n",
    "        to_check = [p]\n",
    "        while to_check:\n",
    "            q = to_check.pop()\n",
    "\n",
    "            if q in area:\n",
    "                continue\n",
    "\n",
    "            if plot == garden[q.y][q.x]:\n",
    "                area.add(q)\n",
    "\n",
    "                if q.x > 0:\n",
    "                    to_check.append(Position(q.x - 1, q.y))\n",
    "                if q.x < n_cols - 1:\n",
    "                    to_check.append(Position(q.x + 1, q.y))\n",
    "                if q.y > 0:\n",
    "                    to_check.append(Position(q.x, q.y - 1))\n",
    "                if q.y < n_rows - 1:\n",
    "                    to_check.append(Position(q.x, q.y + 1))\n",
    "\n",
    "                t = (q.y > 0) and (garden[q.y - 1][q.x] == plot)\n",
    "                l = (q.x > 0) and (garden[q.y][q.x - 1] == plot)\n",
    "                b = (q.y < n_rows - 1) and (garden[q.y + 1][q.x] == plot)\n",
    "                r = (q.x < n_cols - 1) and (garden[q.y][q.x + 1] == plot)\n",
    "\n",
    "                tl = (q.x > 0) and (q.y > 0) and (garden[q.y - 1][q.x - 1] == plot)\n",
    "                bl = (q.x > 0) and (q.y < n_rows - 1) and (garden[q.y + 1][q.x - 1] == plot)\n",
    "                tr = (q.x < n_cols - 1) and (q.y > 0) and (garden[q.y - 1][q.x + 1] == plot)\n",
    "                br = (q.x < n_cols - 1) and (q.y < n_rows - 1) and (garden[q.y + 1][q.x + 1] == plot)\n",
    "\n",
    "                corners = 0\n",
    "                if not t and not l:\n",
    "                    corners += 1\n",
    "                if not t and not r:\n",
    "                    corners += 1\n",
    "                if not b and not l:\n",
    "                    corners += 1\n",
    "                if not b and not r:\n",
    "                    corners += 1\n",
    "                if t and l and not tl:\n",
    "                    corners += 1\n",
    "                if t and r and not tr:\n",
    "                    corners += 1\n",
    "                if b and l and not bl:\n",
    "                    corners += 1\n",
    "                if b and r and not br:\n",
    "                    corners += 1\n",
    "\n",
    "                perimiter += corners\n",
    "\n",
    "        visited = visited.union(area)\n",
    "\n",
    "        s += len(area) * perimiter\n",
    "s"
   ]
  }
 ],
 "metadata": {
  "kernelspec": {
   "display_name": "venv",
   "language": "python",
   "name": "python3"
  },
  "language_info": {
   "codemirror_mode": {
    "name": "ipython",
    "version": 3
   },
   "file_extension": ".py",
   "mimetype": "text/x-python",
   "name": "python",
   "nbconvert_exporter": "python",
   "pygments_lexer": "ipython3",
   "version": "3.10.12"
  }
 },
 "nbformat": 4,
 "nbformat_minor": 2
}
