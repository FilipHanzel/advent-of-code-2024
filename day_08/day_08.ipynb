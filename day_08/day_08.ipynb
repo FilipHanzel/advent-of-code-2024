{
 "cells": [
  {
   "cell_type": "code",
   "execution_count": 1,
   "metadata": {},
   "outputs": [],
   "source": [
    "from collections import namedtuple\n",
    "from itertools import permutations"
   ]
  },
  {
   "cell_type": "code",
   "execution_count": 2,
   "metadata": {},
   "outputs": [],
   "source": [
    "with open(\"day_08.txt\") as f:\n",
    "    antenna_map = f.read().strip().split(\"\\n\")\n",
    "\n",
    "n_rows = len(antenna_map)\n",
    "n_cols = len(antenna_map[0])\n",
    "\n",
    "Position = namedtuple(\"Position\", [\"x\", \"y\"])\n",
    "\n",
    "antenna_locations = {}\n",
    "for y, row in enumerate(antenna_map):\n",
    "    for x, cell in enumerate(row):\n",
    "        if cell == \".\":\n",
    "            continue\n",
    "        if cell not in antenna_locations:\n",
    "            antenna_locations[cell] = []\n",
    "        antenna_locations[cell].append(Position(x, y))"
   ]
  },
  {
   "cell_type": "markdown",
   "metadata": {},
   "source": [
    "# Part 1"
   ]
  },
  {
   "cell_type": "code",
   "execution_count": 3,
   "metadata": {},
   "outputs": [
    {
     "data": {
      "text/plain": [
       "289"
      ]
     },
     "execution_count": 3,
     "metadata": {},
     "output_type": "execute_result"
    }
   ],
   "source": [
    "antinodes = set()\n",
    "for positions in antenna_locations.values():\n",
    "    for a, b in permutations(positions, r=2):\n",
    "        x = a.x + a.x - b.x\n",
    "        y = a.y + a.y - b.y\n",
    "        if x < 0 or y < 0 or x >= n_cols or y >= n_rows:\n",
    "            continue\n",
    "        antinodes.add(Position(x, y))\n",
    "len(antinodes)"
   ]
  },
  {
   "cell_type": "markdown",
   "metadata": {},
   "source": [
    "# Part 2"
   ]
  },
  {
   "cell_type": "code",
   "execution_count": 4,
   "metadata": {},
   "outputs": [
    {
     "data": {
      "text/plain": [
       "1030"
      ]
     },
     "execution_count": 4,
     "metadata": {},
     "output_type": "execute_result"
    }
   ],
   "source": [
    "antinodes = set()\n",
    "for positions in antenna_locations.values():\n",
    "    for position in positions:\n",
    "        antinodes.add(position)\n",
    "\n",
    "    for a, b in permutations(positions, r=2):\n",
    "        x = a.x\n",
    "        y = a.y\n",
    "        while True:\n",
    "            x += a.x - b.x\n",
    "            y += a.y - b.y\n",
    "            if x < 0 or y < 0 or x >= n_cols or y >= n_rows:\n",
    "                break\n",
    "            antinodes.add(Position(x, y))\n",
    "\n",
    "len(antinodes)"
   ]
  }
 ],
 "metadata": {
  "kernelspec": {
   "display_name": "venv",
   "language": "python",
   "name": "python3"
  },
  "language_info": {
   "codemirror_mode": {
    "name": "ipython",
    "version": 3
   },
   "file_extension": ".py",
   "mimetype": "text/x-python",
   "name": "python",
   "nbconvert_exporter": "python",
   "pygments_lexer": "ipython3",
   "version": "3.10.12"
  }
 },
 "nbformat": 4,
 "nbformat_minor": 2
}
