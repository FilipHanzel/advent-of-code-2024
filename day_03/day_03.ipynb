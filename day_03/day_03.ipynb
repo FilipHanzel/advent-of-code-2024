{
 "cells": [
  {
   "cell_type": "code",
   "execution_count": 38,
   "metadata": {},
   "outputs": [],
   "source": [
    "import re"
   ]
  },
  {
   "cell_type": "code",
   "execution_count": 39,
   "metadata": {},
   "outputs": [],
   "source": [
    "with open(\"day_03.txt\") as f:\n",
    "    lines = f.read().strip().split(\"\\n\")"
   ]
  },
  {
   "cell_type": "markdown",
   "metadata": {},
   "source": [
    "# Part 1"
   ]
  },
  {
   "cell_type": "code",
   "execution_count": 40,
   "metadata": {},
   "outputs": [
    {
     "data": {
      "text/plain": [
       "166905464"
      ]
     },
     "execution_count": 40,
     "metadata": {},
     "output_type": "execute_result"
    }
   ],
   "source": [
    "pattern = re.compile(\"mul\\((\\d+),(\\d+)\\)\")\n",
    "\n",
    "s = 0\n",
    "for line in lines:\n",
    "    for a, b in re.findall(pattern, line):\n",
    "        s += int(a) * int(b)\n",
    "s"
   ]
  },
  {
   "cell_type": "markdown",
   "metadata": {},
   "source": [
    "# Part 2"
   ]
  },
  {
   "cell_type": "code",
   "execution_count": 41,
   "metadata": {},
   "outputs": [
    {
     "data": {
      "text/plain": [
       "72948684"
      ]
     },
     "execution_count": 41,
     "metadata": {},
     "output_type": "execute_result"
    }
   ],
   "source": [
    "pattern = re.compile(\"mul\\((\\d+),(\\d+)\\)|(do)\\(\\)|(don't)\\(\\)\")\n",
    "\n",
    "enabled = True\n",
    "s = 0\n",
    "for line in lines:\n",
    "    for a, b, do, do_not in re.findall(pattern, line):\n",
    "        if do_not:\n",
    "            enabled = False\n",
    "            continue\n",
    "        if do:\n",
    "            enabled = True\n",
    "            continue\n",
    "\n",
    "        if enabled:\n",
    "            s += int(a) * int(b)\n",
    "s"
   ]
  }
 ],
 "metadata": {
  "kernelspec": {
   "display_name": "venv",
   "language": "python",
   "name": "python3"
  },
  "language_info": {
   "codemirror_mode": {
    "name": "ipython",
    "version": 3
   },
   "file_extension": ".py",
   "mimetype": "text/x-python",
   "name": "python",
   "nbconvert_exporter": "python",
   "pygments_lexer": "ipython3",
   "version": "3.10.12"
  }
 },
 "nbformat": 4,
 "nbformat_minor": 2
}
