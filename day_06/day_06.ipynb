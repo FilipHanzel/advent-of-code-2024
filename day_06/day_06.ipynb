{
 "cells": [
  {
   "cell_type": "code",
   "execution_count": 1,
   "metadata": {},
   "outputs": [],
   "source": [
    "from collections import namedtuple\n",
    "\n",
    "from tqdm import tqdm"
   ]
  },
  {
   "cell_type": "code",
   "execution_count": 2,
   "metadata": {},
   "outputs": [],
   "source": [
    "with open(\"day_06.txt\") as f:\n",
    "    lab_map = f.read().strip().split(\"\\n\")\n",
    "\n",
    "n_rows = len(lab_map)\n",
    "n_cols = len(lab_map[0])\n",
    "\n",
    "Position = namedtuple(\"Position\", [\"x\", \"y\"])\n",
    "\n",
    "guard_starting_direction = \"^\"\n",
    "guard_starting_position = None\n",
    "\n",
    "for y, row in enumerate(lab_map):\n",
    "    for x, cell in enumerate(row):\n",
    "        if cell == guard_starting_direction:\n",
    "            guard_starting_position = Position(x, y)\n",
    "\n",
    "\n",
    "def up(pos: Position) -> Position:\n",
    "    return Position(pos.x, pos.y - 1)\n",
    "\n",
    "\n",
    "def down(pos: Position) -> Position:\n",
    "    return Position(pos.x, pos.y + 1)\n",
    "\n",
    "\n",
    "def left(pos: Position) -> Position:\n",
    "    return Position(pos.x - 1, pos.y)\n",
    "\n",
    "\n",
    "def right(pos: Position) -> Position:\n",
    "    return Position(pos.x + 1, pos.y)"
   ]
  },
  {
   "cell_type": "markdown",
   "metadata": {},
   "source": [
    "# Part 1"
   ]
  },
  {
   "cell_type": "code",
   "execution_count": 3,
   "metadata": {},
   "outputs": [
    {
     "data": {
      "text/plain": [
       "5212"
      ]
     },
     "execution_count": 3,
     "metadata": {},
     "output_type": "execute_result"
    }
   ],
   "source": [
    "guard_pos = guard_starting_position\n",
    "guard_dir = guard_starting_direction\n",
    "visited = {}  # <position>: list[<direction>]\n",
    "while True:\n",
    "    if guard_pos not in visited:\n",
    "        visited[guard_pos] = []\n",
    "    visited[guard_pos].append(guard_dir)\n",
    "\n",
    "    if guard_dir == \"^\":\n",
    "        next_pos, turn_dir = up(guard_pos), \">\"\n",
    "    elif guard_dir == \">\":\n",
    "        next_pos, turn_dir = right(guard_pos), \"v\"\n",
    "    elif guard_dir == \"v\":\n",
    "        next_pos, turn_dir = down(guard_pos), \"<\"\n",
    "    elif guard_dir == \"<\":\n",
    "        next_pos, turn_dir = left(guard_pos), \"^\"\n",
    "\n",
    "    if next_pos.x < 0 or next_pos.x >= n_cols:\n",
    "        break\n",
    "    if next_pos.y < 0 or next_pos.y >= n_rows:\n",
    "        break\n",
    "\n",
    "    if lab_map[next_pos.y][next_pos.x] == \"#\":\n",
    "        guard_dir = turn_dir\n",
    "    else:\n",
    "        guard_pos = next_pos\n",
    "\n",
    "\n",
    "len(visited)"
   ]
  },
  {
   "cell_type": "markdown",
   "metadata": {},
   "source": [
    "# Part 2"
   ]
  },
  {
   "cell_type": "code",
   "execution_count": 4,
   "metadata": {},
   "outputs": [
    {
     "name": "stderr",
     "output_type": "stream",
     "text": [
      "100%|██████████| 5212/5212 [00:22<00:00, 232.59it/s]\n"
     ]
    },
    {
     "data": {
      "text/plain": [
       "1767"
      ]
     },
     "execution_count": 4,
     "metadata": {},
     "output_type": "execute_result"
    }
   ],
   "source": [
    "def simulate(blocked_pos: Position) -> bool:\n",
    "    guard_pos = guard_starting_position\n",
    "    guard_dir = guard_starting_direction\n",
    "    visited = {}  # <position>: list[<direction>]\n",
    "    while True:\n",
    "        if guard_pos in visited and guard_dir in visited[guard_pos]:\n",
    "            return True\n",
    "\n",
    "        if guard_pos not in visited:\n",
    "            visited[guard_pos] = []\n",
    "        visited[guard_pos].append(guard_dir)\n",
    "\n",
    "        if guard_dir == \"^\":\n",
    "            next_pos, turn_dir = up(guard_pos), \">\"\n",
    "        elif guard_dir == \">\":\n",
    "            next_pos, turn_dir = right(guard_pos), \"v\"\n",
    "        elif guard_dir == \"v\":\n",
    "            next_pos, turn_dir = down(guard_pos), \"<\"\n",
    "        elif guard_dir == \"<\":\n",
    "            next_pos, turn_dir = left(guard_pos), \"^\"\n",
    "\n",
    "        if next_pos.x < 0 or next_pos.x >= n_cols:\n",
    "            break\n",
    "        if next_pos.y < 0 or next_pos.y >= n_rows:\n",
    "            break\n",
    "\n",
    "        if lab_map[next_pos.y][next_pos.x] == \"#\" or next_pos == blocked_pos:\n",
    "            guard_dir = turn_dir\n",
    "        else:\n",
    "            guard_pos = next_pos\n",
    "    \n",
    "    return False\n",
    "\n",
    "\n",
    "valid_blocked_positions = set()\n",
    "for position, directions in tqdm(visited.items()):\n",
    "    for direction in directions:\n",
    "\n",
    "        if direction == \"^\":\n",
    "            next_pos = up(position)\n",
    "        elif direction == \">\":\n",
    "            next_pos = right(position)\n",
    "        elif direction == \"v\":\n",
    "            next_pos = down(position)\n",
    "        elif direction == \"<\":\n",
    "            next_pos = left(position)\n",
    "\n",
    "        if next_pos.x < 0 or next_pos.x >= n_cols:\n",
    "            continue\n",
    "        if next_pos.y < 0 or next_pos.y >= n_rows:\n",
    "            continue\n",
    "        if lab_map[next_pos.y][next_pos.x] == \"#\":\n",
    "            continue\n",
    "\n",
    "        if simulate(next_pos):\n",
    "            valid_blocked_positions.add(next_pos)\n",
    "\n",
    "len(valid_blocked_positions)"
   ]
  }
 ],
 "metadata": {
  "kernelspec": {
   "display_name": "venv",
   "language": "python",
   "name": "python3"
  },
  "language_info": {
   "codemirror_mode": {
    "name": "ipython",
    "version": 3
   },
   "file_extension": ".py",
   "mimetype": "text/x-python",
   "name": "python",
   "nbconvert_exporter": "python",
   "pygments_lexer": "ipython3",
   "version": "3.10.12"
  }
 },
 "nbformat": 4,
 "nbformat_minor": 2
}
