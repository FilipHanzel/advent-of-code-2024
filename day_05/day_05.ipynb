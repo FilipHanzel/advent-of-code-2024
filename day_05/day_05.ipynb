{
 "cells": [
  {
   "cell_type": "code",
   "execution_count": 5,
   "metadata": {},
   "outputs": [],
   "source": [
    "import copy"
   ]
  },
  {
   "cell_type": "code",
   "execution_count": 6,
   "metadata": {},
   "outputs": [],
   "source": [
    "with open(\"day_05.txt\") as f:\n",
    "    rules, pages = f.read().strip().split(\"\\n\\n\")\n",
    "\n",
    "rules = [list(map(int, rule.split(\"|\"))) for rule in rules.split(\"\\n\")]\n",
    "pages = [list(map(int, page.split(\",\"))) for page in pages.split(\"\\n\")]"
   ]
  },
  {
   "cell_type": "markdown",
   "metadata": {},
   "source": [
    "# Part 1"
   ]
  },
  {
   "cell_type": "code",
   "execution_count": 7,
   "metadata": {},
   "outputs": [
    {
     "data": {
      "text/plain": [
       "5108"
      ]
     },
     "execution_count": 7,
     "metadata": {},
     "output_type": "execute_result"
    }
   ],
   "source": [
    "s = 0\n",
    "for page in pages:\n",
    "    for rule in rules:\n",
    "        if rule[0] in page and rule[1] in page and page.index(rule[0]) > page.index(rule[1]):\n",
    "            break\n",
    "    else:\n",
    "        s+= page[len(page) // 2]\n",
    "s"
   ]
  },
  {
   "cell_type": "markdown",
   "metadata": {},
   "source": [
    "# Part 2"
   ]
  },
  {
   "cell_type": "code",
   "execution_count": 8,
   "metadata": {},
   "outputs": [
    {
     "data": {
      "text/plain": [
       "7380"
      ]
     },
     "execution_count": 8,
     "metadata": {},
     "output_type": "execute_result"
    }
   ],
   "source": [
    "incorrect = []\n",
    "for page in copy.deepcopy(pages):\n",
    "    for a, b in rules:\n",
    "        if a in page and b in page:\n",
    "            a_idx = page.index(a)\n",
    "            b_idx = page.index(b)\n",
    "            if a_idx > b_idx:\n",
    "                incorrect.append(page)\n",
    "                break\n",
    "\n",
    "s = 0\n",
    "for page in incorrect:\n",
    "    fixing = True\n",
    "    while fixing:\n",
    "        swap = False\n",
    "        for a, b in rules:\n",
    "            if a in page and b in page:\n",
    "                a_idx = page.index(a)\n",
    "                b_idx = page.index(b)\n",
    "                if a_idx > b_idx:\n",
    "                    page[a_idx], page[b_idx] = page[b_idx], page[a_idx]\n",
    "                    swap = True\n",
    "        if not swap:\n",
    "            fixing = False\n",
    "\n",
    "    s+= page[len(page) // 2]\n",
    "s"
   ]
  }
 ],
 "metadata": {
  "kernelspec": {
   "display_name": "venv",
   "language": "python",
   "name": "python3"
  },
  "language_info": {
   "codemirror_mode": {
    "name": "ipython",
    "version": 3
   },
   "file_extension": ".py",
   "mimetype": "text/x-python",
   "name": "python",
   "nbconvert_exporter": "python",
   "pygments_lexer": "ipython3",
   "version": "3.10.12"
  }
 },
 "nbformat": 4,
 "nbformat_minor": 2
}
