{
 "cells": [
  {
   "cell_type": "code",
   "execution_count": 2,
   "metadata": {},
   "outputs": [],
   "source": [
    "import re\n",
    "import time\n",
    "from IPython.display import clear_output"
   ]
  },
  {
   "cell_type": "code",
   "execution_count": 3,
   "metadata": {},
   "outputs": [],
   "source": [
    "starting_positions = []\n",
    "with open(\"day_14.txt\") as f:\n",
    "    for line in f.read().strip().split(\"\\n\"):\n",
    "        x, y, vx, vy = re.match(\"^p=(-?\\d+),(-?\\d+) v=(-?\\d+),(-?\\d+)$\", line).groups()\n",
    "        starting_positions.append((int(x), int(y), int(vx), int(vy)))\n",
    "\n",
    "# w = 11\n",
    "# h = 7\n",
    "\n",
    "w = 101\n",
    "h = 103"
   ]
  },
  {
   "cell_type": "markdown",
   "metadata": {},
   "source": [
    "# Part 1"
   ]
  },
  {
   "cell_type": "code",
   "execution_count": 13,
   "metadata": {},
   "outputs": [
    {
     "data": {
      "text/plain": [
       "224554908"
      ]
     },
     "execution_count": 13,
     "metadata": {},
     "output_type": "execute_result"
    }
   ],
   "source": [
    "seconds = 100\n",
    "\n",
    "q1 = q2 = q3 = q4 = 0\n",
    "for x, y, vx, vy in starting_positions:\n",
    "    x = (x + vx * seconds) % w\n",
    "    y = (y + vy * seconds) % h\n",
    "\n",
    "    if (x < w // 2) and (y < h // 2):\n",
    "        q1 += 1\n",
    "    if (x > w // 2) and (y < h // 2):\n",
    "        q2 += 1\n",
    "    if (x < w // 2) and (y > h // 2):\n",
    "        q3 += 1\n",
    "    if (x > w // 2) and (y > h // 2):\n",
    "        q4 += 1\n",
    "\n",
    "q1 * q2 * q3 * q4"
   ]
  },
  {
   "cell_type": "markdown",
   "metadata": {},
   "source": [
    "# Part 2"
   ]
  },
  {
   "cell_type": "code",
   "execution_count": null,
   "metadata": {},
   "outputs": [],
   "source": [
    "for seconds in range(1000):\n",
    "    seconds *= 101\n",
    "    seconds += 79\n",
    "\n",
    "    print(f\"{seconds =}\")\n",
    "\n",
    "    positions = set()\n",
    "    for x, y, vx, vy in starting_positions:\n",
    "        x = (x + vx * seconds) % w\n",
    "        y = (y + vy * seconds) % h\n",
    "        positions.add((x, y))\n",
    "\n",
    "    for i in range(h):\n",
    "        for j in range(w):\n",
    "            print(\"X\" if (j, i) in positions else \" \", end=\"\")\n",
    "        print()\n",
    "\n",
    "    time.sleep(0.5)"
   ]
  },
  {
   "cell_type": "code",
   "execution_count": 11,
   "metadata": {},
   "outputs": [
    {
     "name": "stdout",
     "output_type": "stream",
     "text": [
      "                                                                                                     \n",
      "                                                 X                                                   \n",
      "                                                                              X                      \n",
      "                                                                                   X                 \n",
      "X                               X       X                                                            \n",
      "                                 X                                                                   \n",
      "                                                            X                                        \n",
      "                                                                                                     \n",
      "                                                       X                                             \n",
      "                                     X                              X                                \n",
      "                                                  X                                                  \n",
      "                                                                                X              X     \n",
      "                                                                                                     \n",
      "                                                            X                                        \n",
      "                             X                                  X                                    \n",
      "  X                            X            X        X        X                                      \n",
      "X                                                                                                    \n",
      "                             X                                                                       \n",
      "             X                X       X      X             X          X                              \n",
      "                       X                       X    X                         X                      \n",
      "                                                                                                     \n",
      "      X                                                                                  X           \n",
      "                                                                                                  X  \n",
      "                                                                                                     \n",
      "                                                                                                     \n",
      "                                                                                                     \n",
      "       X                                         X                X                                  \n",
      "                         X                                                                           \n",
      "         X                                                                X             X            \n",
      "                             XX                   X                                   X              \n",
      "                    X                                                                                \n",
      "                    X                                                                             X  \n",
      "                                                                   X                                 \n",
      "                                                                                                     \n",
      "                                                                     X               X               \n",
      "                        X                                                                            \n",
      "                                                                           X                         \n",
      "                              XXXXXXXXXXXXXXXXXXXXXXXXXXXXXXX       X                               X\n",
      "                              X                             X                                        \n",
      "                              X                             X                                        \n",
      "                          X   X                             X                                        \n",
      "              X               X                             X                             X          \n",
      "                              X              X              X    X                                   \n",
      "                              X             XXX             X                     X                  \n",
      " X              X             X            XXXXX            X                            X           \n",
      "                              X           XXXXXXX           X          X            X                \n",
      " X                            X          XXXXXXXXX          X  X                                     \n",
      "                              X            XXXXX            X                                        \n",
      "                              X           XXXXXXX           X                                        \n",
      "                              X          XXXXXXXXX          X                                        \n",
      "          X                   X         XXXXXXXXXXX         X               X                        \n",
      "                              X        XXXXXXXXXXXXX        X                          X             \n",
      "                              X          XXXXXXXXX          X                                        \n",
      "                              X         XXXXXXXXXXX         X           X                X           \n",
      "                              X        XXXXXXXXXXXXX        X                                        \n",
      "     X                        X       XXXXXXXXXXXXXXX       X                      X                 \n",
      "                              X      XXXXXXXXXXXXXXXXX      X                               X        \n",
      "                              X        XXXXXXXXXXXXX        X                                        \n",
      "  X                           X       XXXXXXXXXXXXXXX       X                                        \n",
      "                              X      XXXXXXXXXXXXXXXXX      X                                        \n",
      "                              X     XXXXXXXXXXXXXXXXXXX     X  X          X                          \n",
      "                              X    XXXXXXXXXXXXXXXXXXXXX    X                                        \n",
      "                   X          X             XXX             X                                        \n",
      "                    X         X             XXX             X                                        \n",
      "                              X             XXX             X    X            X                      \n",
      "                              X                             X                             X          \n",
      "                   X          X                             X                            X           \n",
      "                   X          X                             X X                                      \n",
      "                              X                             X                                 X      \n",
      "                              XXXXXXXXXXXXXXXXXXXXXXXXXXXXXXX                              X         \n",
      "                                                                                                     \n",
      "                                             X       X                                               \n",
      "              X           X                                            X                             \n",
      "                     X                 X                                                             \n",
      "                           X                                                                         \n",
      "                                                 X             X       X                             \n",
      "         X                            X          X                                                   \n",
      "               X                                                                                     \n",
      "                                                       X                                             \n",
      "                  X                                                                                  \n",
      "    X        X                                           X           X                   X           \n",
      "                                                  X                        X                         \n",
      "                                                                                                     \n",
      "                              X                   X                              X                  X\n",
      "                                                                                 X              X    \n",
      "                                                                                                    X\n",
      "X  X                                                                                                 \n",
      " X                                                                   X                               \n",
      "                                                                                    X                \n",
      "                                          X                                                          \n",
      "                                    X                                                              X \n",
      "                                                                                                     \n",
      "                                            X                                                        \n",
      "                     X                                                   X                           \n",
      "                                                                                                     \n",
      "                                       X                               X                             \n",
      "                                                               X                                     \n",
      "                X                                                                     X     X        \n",
      "                                                       X                                             \n",
      "                      X                                                                X             \n",
      "                                              X      X                                X              \n",
      "                                                                                                     \n",
      "                                                               X                                     \n"
     ]
    }
   ],
   "source": [
    "seconds = 6644\n",
    "\n",
    "positions = set()\n",
    "for x, y, vx, vy in starting_positions:\n",
    "    x = (x + vx * seconds) % w\n",
    "    y = (y + vy * seconds) % h\n",
    "    positions.add((x, y))\n",
    "\n",
    "for i in range(h):\n",
    "    for j in range(w):\n",
    "        print(\"X\" if (j, i) in positions else \" \", end=\"\")\n",
    "    print()"
   ]
  }
 ],
 "metadata": {
  "kernelspec": {
   "display_name": "venv",
   "language": "python",
   "name": "python3"
  },
  "language_info": {
   "codemirror_mode": {
    "name": "ipython",
    "version": 3
   },
   "file_extension": ".py",
   "mimetype": "text/x-python",
   "name": "python",
   "nbconvert_exporter": "python",
   "pygments_lexer": "ipython3",
   "version": "3.10.12"
  }
 },
 "nbformat": 4,
 "nbformat_minor": 2
}
