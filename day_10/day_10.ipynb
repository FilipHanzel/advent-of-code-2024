{
 "cells": [
  {
   "cell_type": "code",
   "execution_count": 1,
   "metadata": {},
   "outputs": [],
   "source": [
    "from collections import namedtuple"
   ]
  },
  {
   "cell_type": "code",
   "execution_count": 2,
   "metadata": {},
   "outputs": [],
   "source": [
    "with open(\"day_10.txt\") as f:\n",
    "    height_map = [list(map(int, row)) for row in f.read().strip().split(\"\\n\")]\n",
    "\n",
    "n_rows = len(height_map)\n",
    "n_cols = len(height_map[0])\n",
    "\n",
    "Position = namedtuple(\"Position\", [\"x\", \"y\"])"
   ]
  },
  {
   "cell_type": "markdown",
   "metadata": {},
   "source": [
    "# Part 1"
   ]
  },
  {
   "cell_type": "code",
   "execution_count": 3,
   "metadata": {},
   "outputs": [
    {
     "data": {
      "text/plain": [
       "607"
      ]
     },
     "execution_count": 3,
     "metadata": {},
     "output_type": "execute_result"
    }
   ],
   "source": [
    "reachable = None\n",
    "\n",
    "\n",
    "def explore(pos: Position, height: int) -> None:\n",
    "    if height == 9:\n",
    "        reachable.add(pos)\n",
    "        return\n",
    "\n",
    "    for x_offset, y_offset in [(-1, 0), (0, -1), (1, 0), (0, 1)]:\n",
    "        x = pos.x + x_offset\n",
    "        y = pos.y + y_offset\n",
    "\n",
    "        if x < 0 or x >= n_cols or y < 0 or y >= n_rows:\n",
    "            continue\n",
    "\n",
    "        if height_map[y][x] == height + 1:\n",
    "            explore(Position(x, y), height + 1)\n",
    "\n",
    "\n",
    "s = 0\n",
    "for y, row in enumerate(height_map):\n",
    "    for x, height in enumerate(row):\n",
    "        if height == 0:\n",
    "            reachable = set()\n",
    "            explore(Position(x, y), 0)\n",
    "            s += len(reachable)\n",
    "s"
   ]
  },
  {
   "cell_type": "markdown",
   "metadata": {},
   "source": [
    "# Part 2"
   ]
  },
  {
   "cell_type": "code",
   "execution_count": 4,
   "metadata": {},
   "outputs": [
    {
     "data": {
      "text/plain": [
       "1384"
      ]
     },
     "execution_count": 4,
     "metadata": {},
     "output_type": "execute_result"
    }
   ],
   "source": [
    "def explore(pos: Position, height: int) -> int:\n",
    "    if height == 9:\n",
    "        return 1\n",
    "\n",
    "    score = 0\n",
    "    for x_offset, y_offset in [(-1, 0), (0, -1), (1, 0), (0, 1)]:\n",
    "        x = pos.x + x_offset\n",
    "        y = pos.y + y_offset\n",
    "\n",
    "        if x < 0 or x >= n_cols or y < 0 or y >= n_rows:\n",
    "            continue\n",
    "\n",
    "        if height_map[y][x] == height + 1:\n",
    "            score += explore(Position(x, y), height + 1)\n",
    "    return score\n",
    "\n",
    "\n",
    "s = 0\n",
    "for y, row in enumerate(height_map):\n",
    "    for x, height in enumerate(row):\n",
    "        if height == 0:\n",
    "            s += explore(Position(x, y), 0)\n",
    "s"
   ]
  }
 ],
 "metadata": {
  "kernelspec": {
   "display_name": "venv",
   "language": "python",
   "name": "python3"
  },
  "language_info": {
   "codemirror_mode": {
    "name": "ipython",
    "version": 3
   },
   "file_extension": ".py",
   "mimetype": "text/x-python",
   "name": "python",
   "nbconvert_exporter": "python",
   "pygments_lexer": "ipython3",
   "version": "3.10.12"
  }
 },
 "nbformat": 4,
 "nbformat_minor": 2
}
