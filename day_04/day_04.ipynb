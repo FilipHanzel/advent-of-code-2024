{
 "cells": [
  {
   "cell_type": "code",
   "execution_count": 132,
   "metadata": {},
   "outputs": [],
   "source": [
    "with open(\"day_04.txt\") as f:\n",
    "    word_search = f.read().strip().split(\"\\n\")\n",
    "\n",
    "n_rows = len(word_search)\n",
    "n_cols = len(word_search[0])"
   ]
  },
  {
   "cell_type": "markdown",
   "metadata": {},
   "source": [
    "# Part 1"
   ]
  },
  {
   "cell_type": "code",
   "execution_count": 133,
   "metadata": {},
   "outputs": [
    {
     "data": {
      "text/plain": [
       "2532"
      ]
     },
     "execution_count": 133,
     "metadata": {},
     "output_type": "execute_result"
    }
   ],
   "source": [
    "s = 0\n",
    "for row, line in enumerate(word_search):\n",
    "    for col, letter in enumerate(line):\n",
    "\n",
    "        if letter == \"X\":\n",
    "\n",
    "            for x_direction in (-1, 0, 1):\n",
    "                for y_direction in (-1, 0, 1):\n",
    "\n",
    "                    for step in range(3):\n",
    "                        y = row + y_direction * (step + 1)\n",
    "                        x = col + x_direction * (step + 1)\n",
    "\n",
    "                        if not (0 <= y < n_rows):\n",
    "                            break\n",
    "                        if not (0 <= x < n_cols):\n",
    "                            break\n",
    "\n",
    "                        next_letter = word_search[y][x]\n",
    "\n",
    "                        if step == 0 and next_letter != \"M\":\n",
    "                            break\n",
    "                        if step == 1 and next_letter != \"A\":\n",
    "                            break\n",
    "                        if step == 2 and next_letter != \"S\":\n",
    "                            break\n",
    "                        \n",
    "                        if next_letter == \"S\":\n",
    "                            s += 1\n",
    "s"
   ]
  },
  {
   "cell_type": "markdown",
   "metadata": {},
   "source": [
    "# Part 2"
   ]
  },
  {
   "cell_type": "code",
   "execution_count": 134,
   "metadata": {},
   "outputs": [
    {
     "data": {
      "text/plain": [
       "1941"
      ]
     },
     "execution_count": 134,
     "metadata": {},
     "output_type": "execute_result"
    }
   ],
   "source": [
    "s = 0\n",
    "for row, line in enumerate(word_search):\n",
    "    for col, letter in enumerate(line):\n",
    "\n",
    "        if letter == \"A\":\n",
    "\n",
    "            if row - 1 < 0 or row + 1 >= n_rows:\n",
    "                continue\n",
    "            if col - 1 < 0 or col + 1 >= n_cols:\n",
    "                continue\n",
    "\n",
    "            tl = word_search[row - 1][col - 1]\n",
    "            tr = word_search[row - 1][col + 1]\n",
    "            bl = word_search[row + 1][col - 1]\n",
    "            br = word_search[row + 1][col + 1]\n",
    "\n",
    "            if not ((tl == \"M\" and br == \"S\") or (tl == \"S\" and br == \"M\")):\n",
    "                continue\n",
    "            if not ((tr == \"M\" and bl == \"S\") or (tr == \"S\" and bl == \"M\")):\n",
    "                continue\n",
    "\n",
    "            s += 1\n",
    "s"
   ]
  }
 ],
 "metadata": {
  "kernelspec": {
   "display_name": "venv",
   "language": "python",
   "name": "python3"
  },
  "language_info": {
   "codemirror_mode": {
    "name": "ipython",
    "version": 3
   },
   "file_extension": ".py",
   "mimetype": "text/x-python",
   "name": "python",
   "nbconvert_exporter": "python",
   "pygments_lexer": "ipython3",
   "version": "3.10.12"
  }
 },
 "nbformat": 4,
 "nbformat_minor": 2
}
