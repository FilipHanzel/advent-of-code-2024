{
 "cells": [
  {
   "cell_type": "code",
   "execution_count": 51,
   "metadata": {},
   "outputs": [],
   "source": [
    "from itertools import product\n",
    "from operator import mul, add\n",
    "\n",
    "from tqdm import tqdm"
   ]
  },
  {
   "cell_type": "code",
   "execution_count": 52,
   "metadata": {},
   "outputs": [],
   "source": [
    "with open(\"day_07.txt\") as f:\n",
    "    inp = f.read().strip().split(\"\\n\")\n",
    "\n",
    "tests = []\n",
    "for line in inp:\n",
    "    result, components = line.split(\": \")\n",
    "    \n",
    "    result = int(result)\n",
    "    components = [int(c) for c in components.split()]\n",
    "\n",
    "    tests.append((result, components))\n"
   ]
  },
  {
   "cell_type": "markdown",
   "metadata": {},
   "source": [
    "# Part 1"
   ]
  },
  {
   "cell_type": "code",
   "execution_count": 53,
   "metadata": {},
   "outputs": [
    {
     "data": {
      "text/plain": [
       "1260333054159"
      ]
     },
     "execution_count": 53,
     "metadata": {},
     "output_type": "execute_result"
    }
   ],
   "source": [
    "s = 0\n",
    "for result, components in tests:\n",
    "    for ops in product([mul, add], repeat=len(components) - 1):\n",
    "        test_result = components[0]\n",
    "\n",
    "        for i, op in enumerate(ops, 1):\n",
    "            test_result = op(test_result, components[i])\n",
    "\n",
    "        if test_result == result:\n",
    "            s += result\n",
    "            break\n",
    "s"
   ]
  },
  {
   "cell_type": "markdown",
   "metadata": {},
   "source": [
    "# Part 2"
   ]
  },
  {
   "cell_type": "code",
   "execution_count": 54,
   "metadata": {},
   "outputs": [
    {
     "name": "stderr",
     "output_type": "stream",
     "text": [
      "100%|██████████| 850/850 [00:15<00:00, 55.78it/s]\n"
     ]
    },
    {
     "data": {
      "text/plain": [
       "162042343638683"
      ]
     },
     "execution_count": 54,
     "metadata": {},
     "output_type": "execute_result"
    }
   ],
   "source": [
    "def concat_int(a: int, b: int) -> int:\n",
    "    return int(str(a) + str(b))\n",
    "\n",
    "\n",
    "s = 0\n",
    "for result, components in tqdm(tests):\n",
    "    for ops in product([mul, add, concat_int], repeat=len(components) - 1):\n",
    "        test_result = components[0]\n",
    "\n",
    "        for i, op in enumerate(ops, 1):\n",
    "            test_result = op(test_result, components[i])\n",
    "\n",
    "        if test_result == result:\n",
    "            s += result\n",
    "            break\n",
    "s"
   ]
  }
 ],
 "metadata": {
  "kernelspec": {
   "display_name": "venv",
   "language": "python",
   "name": "python3"
  },
  "language_info": {
   "codemirror_mode": {
    "name": "ipython",
    "version": 3
   },
   "file_extension": ".py",
   "mimetype": "text/x-python",
   "name": "python",
   "nbconvert_exporter": "python",
   "pygments_lexer": "ipython3",
   "version": "3.10.12"
  }
 },
 "nbformat": 4,
 "nbformat_minor": 2
}
