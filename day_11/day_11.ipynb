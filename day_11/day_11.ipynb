{
 "cells": [
  {
   "cell_type": "code",
   "execution_count": 5,
   "metadata": {},
   "outputs": [],
   "source": [
    "from functools import cache"
   ]
  },
  {
   "cell_type": "code",
   "execution_count": 6,
   "metadata": {},
   "outputs": [],
   "source": [
    "with open(\"day_11.txt\") as f:\n",
    "    stones = list(map(int, f.read().strip().split()))"
   ]
  },
  {
   "cell_type": "markdown",
   "metadata": {},
   "source": [
    "# Part 1"
   ]
  },
  {
   "cell_type": "code",
   "execution_count": 7,
   "metadata": {},
   "outputs": [
    {
     "data": {
      "text/plain": [
       "185205"
      ]
     },
     "execution_count": 7,
     "metadata": {},
     "output_type": "execute_result"
    }
   ],
   "source": [
    "@cache\n",
    "def change(stone: int, steps_left: int) -> int:\n",
    "    if steps_left == 0:\n",
    "        return 1\n",
    "\n",
    "    if stone == 0:\n",
    "        return change(1, steps_left - 1)\n",
    "\n",
    "    digits = str(stone)\n",
    "    n = len(digits)\n",
    "    if n % 2 == 0:\n",
    "        k = n // 2\n",
    "        l = int(digits[:k])\n",
    "        r = int(digits[k:])\n",
    "        return change(l, steps_left - 1) + change(r, steps_left - 1)\n",
    "\n",
    "    return change(stone * 2024, steps_left - 1)\n",
    "\n",
    "\n",
    "s = 0\n",
    "for stone in stones:\n",
    "    s += change(stone, 25)\n",
    "s"
   ]
  },
  {
   "cell_type": "markdown",
   "metadata": {},
   "source": [
    "# Part 2"
   ]
  },
  {
   "cell_type": "code",
   "execution_count": 11,
   "metadata": {},
   "outputs": [
    {
     "data": {
      "text/plain": [
       "221280540398419"
      ]
     },
     "execution_count": 11,
     "metadata": {},
     "output_type": "execute_result"
    }
   ],
   "source": [
    "s = 0\n",
    "for stone in stones:\n",
    "    s += change(stone, 75)\n",
    "s"
   ]
  }
 ],
 "metadata": {
  "kernelspec": {
   "display_name": "venv",
   "language": "python",
   "name": "python3"
  },
  "language_info": {
   "codemirror_mode": {
    "name": "ipython",
    "version": 3
   },
   "file_extension": ".py",
   "mimetype": "text/x-python",
   "name": "python",
   "nbconvert_exporter": "python",
   "pygments_lexer": "ipython3",
   "version": "3.10.12"
  }
 },
 "nbformat": 4,
 "nbformat_minor": 2
}
